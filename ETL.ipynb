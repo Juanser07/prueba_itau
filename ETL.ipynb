{
 "cells": [
  {
   "cell_type": "code",
   "execution_count": 5,
   "metadata": {},
   "outputs": [],
   "source": [
    "# !pip install -r requiretments_spark.txt"
   ]
  },
  {
   "cell_type": "markdown",
   "metadata": {},
   "source": [
    "## **DESCRIPCION**\n",
    "___\n",
    "\n",
    "Este notebook `busca consolidar todas los procesos de extraccion, analisis, carga y visualizacion` de datos con el proposito de brindar al evaluador una `fuente unificada` de todas las herramientas utilizadas en la prueba. \n",
    "\n",
    "El documento se divide en 3 etapas: \n",
    "\n",
    "* **Extraccion y carga de datos:**  Se crea la funcion que va a leer los documentos de extension .xlsx para su posterior analisis.\n",
    "\n",
    "* **Conexion ODBC con SQL server:** Se crea una conexion con un servidor local del tipo SQL SERVER para realizar la evaluacion de las diferentes tablas con el proposito de explorar la exportacion de datos a un entorno externo. \n",
    "\n",
    "* **Solucion de la prueba:**        Se resuleven las diferentes consultas sql usando la conexion ODBC y la libreria pandas"
   ]
  },
  {
   "cell_type": "markdown",
   "metadata": {},
   "source": [
    "## **EXTRACCION Y CARGA DE DATOS**\n",
    "___\n",
    "\n",
    "Iniciamos importando las librerias que utilizamos para leer los archivos y analizarlos."
   ]
  },
  {
   "cell_type": "code",
   "execution_count": 1,
   "metadata": {},
   "outputs": [],
   "source": [
    "import pandas as pd\n",
    "import os\n",
    "\n",
    "# import pandas_profiling"
   ]
  },
  {
   "cell_type": "markdown",
   "metadata": {},
   "source": [
    "Se define la funcion que leera los archivos del repositorio local."
   ]
  },
  {
   "cell_type": "code",
   "execution_count": 2,
   "metadata": {},
   "outputs": [],
   "source": [
    "def read_files(subfolder):\n",
    "    \"\"\"Funcion que lee multiples archivos de extension .xlsx.\n",
    "        Se usa como carpeta de referencia la carpeta que contiene este archivo .ipynb\n",
    "        \n",
    "        Parametros: \n",
    "        >subfolder: carpeta local que contiene los archivos que se deben leer\n",
    "        \n",
    "        Retorno:\n",
    "        >dfs: Diccionario de archivos de tipo pd.DataFrame creados con los archivos de extension .xlsx encontrados en la carpeta local \n",
    "    \"\"\"\n",
    "\n",
    "    folder_path = os.path.join(os.getcwd(), subfolder)\n",
    "\n",
    "    # Se listan archivos en ruta local\n",
    "    files = os.listdir(folder_path)\n",
    "    # files = os.listdir(os.getcwd())\n",
    "    # Se crea una lista con los nombres de los archivos de extension excel\n",
    "    excel_files = [file for file in files if file.endswith('.xlsx') or file.endswith('.xls')]\n",
    "    \n",
    "    dfs = {}\n",
    "\n",
    "    # Loop que crea un dataframe con cada archivo de excel en la carpeta local\n",
    "    for excel_file in excel_files:\n",
    "        file_path = os.path.join(folder_path, excel_file)\n",
    "        df = pd.read_excel(file_path)\n",
    "\n",
    "        # Store the DataFrame in the dictionary with the file name as the key\n",
    "        dfs[excel_file] = df \n",
    "    \n",
    "    print(f'Se creó diccionario de dataframes con los archivos encontrados en la ruta {folder_path}')\n",
    "    return dfs"
   ]
  },
  {
   "cell_type": "markdown",
   "metadata": {},
   "source": [
    "Se ejecuta la funcion guardando el diccionario de dataframes en la variable `dfs`"
   ]
  },
  {
   "cell_type": "code",
   "execution_count": 3,
   "metadata": {},
   "outputs": [
    {
     "name": "stdout",
     "output_type": "stream",
     "text": [
      "Se creó diccionario de dataframes con los archivos encontrados en la ruta c:\\Users\\USER\\Documents\\9.PRUEBAS_TECNICAS\\Prueba_Itau\\prueba\\bases_excel\n"
     ]
    }
   ],
   "source": [
    "dfs = read_files(subfolder=\"bases_excel\")"
   ]
  },
  {
   "cell_type": "markdown",
   "metadata": {},
   "source": [
    "### **Analisis de datos**\n",
    "\n",
    "Se procede a imprimir en pantalla las primeras 5 filas de cada uno de los archivos encontrados en el repositorio local con extension .xlsx"
   ]
  },
  {
   "cell_type": "code",
   "execution_count": 4,
   "metadata": {},
   "outputs": [
    {
     "name": "stdout",
     "output_type": "stream",
     "text": [
      "Base_Ahorros.xlsx\n"
     ]
    },
    {
     "data": {
      "text/html": [
       "<div>\n",
       "<style scoped>\n",
       "    .dataframe tbody tr th:only-of-type {\n",
       "        vertical-align: middle;\n",
       "    }\n",
       "\n",
       "    .dataframe tbody tr th {\n",
       "        vertical-align: top;\n",
       "    }\n",
       "\n",
       "    .dataframe thead th {\n",
       "        text-align: right;\n",
       "    }\n",
       "</style>\n",
       "<table border=\"1\" class=\"dataframe\">\n",
       "  <thead>\n",
       "    <tr style=\"text-align: right;\">\n",
       "      <th></th>\n",
       "      <th>Fecha_Corte</th>\n",
       "      <th>Nro Cuenta</th>\n",
       "      <th>Tipo_Operacion</th>\n",
       "      <th>Cliente</th>\n",
       "      <th>Saldo_Ahorro</th>\n",
       "      <th>Fecha_Apertura</th>\n",
       "    </tr>\n",
       "  </thead>\n",
       "  <tbody>\n",
       "    <tr>\n",
       "      <th>0</th>\n",
       "      <td>2020-09-30</td>\n",
       "      <td>467002000765</td>\n",
       "      <td>ORD</td>\n",
       "      <td>12702</td>\n",
       "      <td>76514.43</td>\n",
       "      <td>2011-11-22</td>\n",
       "    </tr>\n",
       "    <tr>\n",
       "      <th>1</th>\n",
       "      <td>2020-09-30</td>\n",
       "      <td>711302007184</td>\n",
       "      <td>ORD</td>\n",
       "      <td>36404</td>\n",
       "      <td>10082.09</td>\n",
       "      <td>2013-04-05</td>\n",
       "    </tr>\n",
       "    <tr>\n",
       "      <th>2</th>\n",
       "      <td>2020-09-30</td>\n",
       "      <td>411202010443</td>\n",
       "      <td>ORD</td>\n",
       "      <td>53153</td>\n",
       "      <td>10962.62</td>\n",
       "      <td>2015-03-10</td>\n",
       "    </tr>\n",
       "    <tr>\n",
       "      <th>3</th>\n",
       "      <td>2020-09-30</td>\n",
       "      <td>411202005161</td>\n",
       "      <td>ORD</td>\n",
       "      <td>59433</td>\n",
       "      <td>110017.28</td>\n",
       "      <td>2013-09-28</td>\n",
       "    </tr>\n",
       "    <tr>\n",
       "      <th>4</th>\n",
       "      <td>2020-09-30</td>\n",
       "      <td>467002007286</td>\n",
       "      <td>ORD</td>\n",
       "      <td>116692</td>\n",
       "      <td>10143.09</td>\n",
       "      <td>2013-02-27</td>\n",
       "    </tr>\n",
       "  </tbody>\n",
       "</table>\n",
       "</div>"
      ],
      "text/plain": [
       "  Fecha_Corte    Nro Cuenta Tipo_Operacion  Cliente  Saldo_Ahorro  \\\n",
       "0  2020-09-30  467002000765            ORD    12702      76514.43   \n",
       "1  2020-09-30  711302007184            ORD    36404      10082.09   \n",
       "2  2020-09-30  411202010443            ORD    53153      10962.62   \n",
       "3  2020-09-30  411202005161            ORD    59433     110017.28   \n",
       "4  2020-09-30  467002007286            ORD   116692      10143.09   \n",
       "\n",
       "  Fecha_Apertura  \n",
       "0     2011-11-22  \n",
       "1     2013-04-05  \n",
       "2     2015-03-10  \n",
       "3     2013-09-28  \n",
       "4     2013-02-27  "
      ]
     },
     "metadata": {},
     "output_type": "display_data"
    },
    {
     "name": "stdout",
     "output_type": "stream",
     "text": [
      "Base_CDT.xlsx\n"
     ]
    },
    {
     "data": {
      "text/html": [
       "<div>\n",
       "<style scoped>\n",
       "    .dataframe tbody tr th:only-of-type {\n",
       "        vertical-align: middle;\n",
       "    }\n",
       "\n",
       "    .dataframe tbody tr th {\n",
       "        vertical-align: top;\n",
       "    }\n",
       "\n",
       "    .dataframe thead th {\n",
       "        text-align: right;\n",
       "    }\n",
       "</style>\n",
       "<table border=\"1\" class=\"dataframe\">\n",
       "  <thead>\n",
       "    <tr style=\"text-align: right;\">\n",
       "      <th></th>\n",
       "      <th>Fecha_Corte</th>\n",
       "      <th>Nro_Cdt</th>\n",
       "      <th>Tipo_Operacion</th>\n",
       "      <th>Cliente</th>\n",
       "      <th>Monto_CDT</th>\n",
       "      <th>Fecha_Apertura</th>\n",
       "    </tr>\n",
       "  </thead>\n",
       "  <tbody>\n",
       "    <tr>\n",
       "      <th>0</th>\n",
       "      <td>2020-09-30</td>\n",
       "      <td>4571DF21711574</td>\n",
       "      <td>CDT</td>\n",
       "      <td>349042</td>\n",
       "      <td>750000.0</td>\n",
       "      <td>2015-03-27</td>\n",
       "    </tr>\n",
       "    <tr>\n",
       "      <th>1</th>\n",
       "      <td>2020-09-30</td>\n",
       "      <td>4571DF2591320</td>\n",
       "      <td>CDT</td>\n",
       "      <td>392356</td>\n",
       "      <td>50000.0</td>\n",
       "      <td>2015-01-19</td>\n",
       "    </tr>\n",
       "    <tr>\n",
       "      <th>2</th>\n",
       "      <td>2020-09-30</td>\n",
       "      <td>4571DF2881875</td>\n",
       "      <td>CDT</td>\n",
       "      <td>408816</td>\n",
       "      <td>50000.0</td>\n",
       "      <td>2015-02-11</td>\n",
       "    </tr>\n",
       "    <tr>\n",
       "      <th>3</th>\n",
       "      <td>2020-09-30</td>\n",
       "      <td>4571DF2804021</td>\n",
       "      <td>CDT</td>\n",
       "      <td>507602</td>\n",
       "      <td>50000.0</td>\n",
       "      <td>2014-12-01</td>\n",
       "    </tr>\n",
       "    <tr>\n",
       "      <th>4</th>\n",
       "      <td>2020-09-30</td>\n",
       "      <td>4571DF2908609</td>\n",
       "      <td>CDT</td>\n",
       "      <td>521905</td>\n",
       "      <td>50000.0</td>\n",
       "      <td>2014-11-25</td>\n",
       "    </tr>\n",
       "  </tbody>\n",
       "</table>\n",
       "</div>"
      ],
      "text/plain": [
       "  Fecha_Corte         Nro_Cdt Tipo_Operacion  Cliente  Monto_CDT  \\\n",
       "0  2020-09-30  4571DF21711574            CDT   349042   750000.0   \n",
       "1  2020-09-30   4571DF2591320            CDT   392356    50000.0   \n",
       "2  2020-09-30   4571DF2881875            CDT   408816    50000.0   \n",
       "3  2020-09-30   4571DF2804021            CDT   507602    50000.0   \n",
       "4  2020-09-30   4571DF2908609            CDT   521905    50000.0   \n",
       "\n",
       "  Fecha_Apertura  \n",
       "0     2015-03-27  \n",
       "1     2015-01-19  \n",
       "2     2015-02-11  \n",
       "3     2014-12-01  \n",
       "4     2014-11-25  "
      ]
     },
     "metadata": {},
     "output_type": "display_data"
    },
    {
     "name": "stdout",
     "output_type": "stream",
     "text": [
      "Base_Cliente.xlsx\n"
     ]
    },
    {
     "data": {
      "text/html": [
       "<div>\n",
       "<style scoped>\n",
       "    .dataframe tbody tr th:only-of-type {\n",
       "        vertical-align: middle;\n",
       "    }\n",
       "\n",
       "    .dataframe tbody tr th {\n",
       "        vertical-align: top;\n",
       "    }\n",
       "\n",
       "    .dataframe thead th {\n",
       "        text-align: right;\n",
       "    }\n",
       "</style>\n",
       "<table border=\"1\" class=\"dataframe\">\n",
       "  <thead>\n",
       "    <tr style=\"text-align: right;\">\n",
       "      <th></th>\n",
       "      <th>Cliente</th>\n",
       "      <th>Estrato</th>\n",
       "      <th>Estado_Civil</th>\n",
       "      <th>Genero</th>\n",
       "    </tr>\n",
       "  </thead>\n",
       "  <tbody>\n",
       "    <tr>\n",
       "      <th>0</th>\n",
       "      <td>1809442</td>\n",
       "      <td>Estrato 2</td>\n",
       "      <td>Union Libre</td>\n",
       "      <td>Masculino</td>\n",
       "    </tr>\n",
       "    <tr>\n",
       "      <th>1</th>\n",
       "      <td>2076767</td>\n",
       "      <td>Estrato 2</td>\n",
       "      <td>Soltero</td>\n",
       "      <td>Femenino</td>\n",
       "    </tr>\n",
       "    <tr>\n",
       "      <th>2</th>\n",
       "      <td>2075800</td>\n",
       "      <td>Estrato 2</td>\n",
       "      <td>Divorciado</td>\n",
       "      <td>Masculino</td>\n",
       "    </tr>\n",
       "    <tr>\n",
       "      <th>3</th>\n",
       "      <td>757961</td>\n",
       "      <td>Estrato 2</td>\n",
       "      <td>Union Libre</td>\n",
       "      <td>Masculino</td>\n",
       "    </tr>\n",
       "    <tr>\n",
       "      <th>4</th>\n",
       "      <td>2078570</td>\n",
       "      <td>Estrato 2</td>\n",
       "      <td>Divorciado</td>\n",
       "      <td>Masculino</td>\n",
       "    </tr>\n",
       "  </tbody>\n",
       "</table>\n",
       "</div>"
      ],
      "text/plain": [
       "   Cliente    Estrato Estado_Civil     Genero\n",
       "0  1809442  Estrato 2  Union Libre  Masculino\n",
       "1  2076767  Estrato 2      Soltero   Femenino\n",
       "2  2075800  Estrato 2   Divorciado  Masculino\n",
       "3   757961  Estrato 2  Union Libre  Masculino\n",
       "4  2078570  Estrato 2   Divorciado  Masculino"
      ]
     },
     "metadata": {},
     "output_type": "display_data"
    },
    {
     "name": "stdout",
     "output_type": "stream",
     "text": [
      "Base_Creditos.xlsx\n"
     ]
    },
    {
     "data": {
      "text/html": [
       "<div>\n",
       "<style scoped>\n",
       "    .dataframe tbody tr th:only-of-type {\n",
       "        vertical-align: middle;\n",
       "    }\n",
       "\n",
       "    .dataframe tbody tr th {\n",
       "        vertical-align: top;\n",
       "    }\n",
       "\n",
       "    .dataframe thead th {\n",
       "        text-align: right;\n",
       "    }\n",
       "</style>\n",
       "<table border=\"1\" class=\"dataframe\">\n",
       "  <thead>\n",
       "    <tr style=\"text-align: right;\">\n",
       "      <th></th>\n",
       "      <th>Fecha_Corte</th>\n",
       "      <th>Nro_Credito</th>\n",
       "      <th>Tipo_Operacion</th>\n",
       "      <th>Cliente</th>\n",
       "      <th>Saldo_Credito</th>\n",
       "      <th>Dias_En_Mora</th>\n",
       "      <th>Fecha_Desembolso</th>\n",
       "    </tr>\n",
       "  </thead>\n",
       "  <tbody>\n",
       "    <tr>\n",
       "      <th>0</th>\n",
       "      <td>2020-09-30</td>\n",
       "      <td>171130006396</td>\n",
       "      <td>SINCO</td>\n",
       "      <td>36404</td>\n",
       "      <td>7117180.0</td>\n",
       "      <td>40</td>\n",
       "      <td>2013-04-05</td>\n",
       "    </tr>\n",
       "    <tr>\n",
       "      <th>1</th>\n",
       "      <td>2020-09-30</td>\n",
       "      <td>141120017373</td>\n",
       "      <td>SINCO</td>\n",
       "      <td>53153</td>\n",
       "      <td>2858052.4</td>\n",
       "      <td>40</td>\n",
       "      <td>2015-03-10</td>\n",
       "    </tr>\n",
       "    <tr>\n",
       "      <th>2</th>\n",
       "      <td>2020-09-30</td>\n",
       "      <td>146700010607</td>\n",
       "      <td>SINCO</td>\n",
       "      <td>59315</td>\n",
       "      <td>5172800.0</td>\n",
       "      <td>0</td>\n",
       "      <td>2015-01-14</td>\n",
       "    </tr>\n",
       "    <tr>\n",
       "      <th>3</th>\n",
       "      <td>2020-09-30</td>\n",
       "      <td>141120018058</td>\n",
       "      <td>CLIENT1A</td>\n",
       "      <td>59433</td>\n",
       "      <td>5000000.0</td>\n",
       "      <td>0</td>\n",
       "      <td>2015-03-30</td>\n",
       "    </tr>\n",
       "    <tr>\n",
       "      <th>4</th>\n",
       "      <td>2020-09-30</td>\n",
       "      <td>140700125119</td>\n",
       "      <td>SINCO</td>\n",
       "      <td>116692</td>\n",
       "      <td>13751100.0</td>\n",
       "      <td>20</td>\n",
       "      <td>2013-02-27</td>\n",
       "    </tr>\n",
       "  </tbody>\n",
       "</table>\n",
       "</div>"
      ],
      "text/plain": [
       "  Fecha_Corte   Nro_Credito Tipo_Operacion  Cliente  Saldo_Credito  \\\n",
       "0  2020-09-30  171130006396          SINCO    36404      7117180.0   \n",
       "1  2020-09-30  141120017373          SINCO    53153      2858052.4   \n",
       "2  2020-09-30  146700010607          SINCO    59315      5172800.0   \n",
       "3  2020-09-30  141120018058       CLIENT1A    59433      5000000.0   \n",
       "4  2020-09-30  140700125119          SINCO   116692     13751100.0   \n",
       "\n",
       "   Dias_En_Mora Fecha_Desembolso  \n",
       "0            40       2013-04-05  \n",
       "1            40       2015-03-10  \n",
       "2             0       2015-01-14  \n",
       "3             0       2015-03-30  \n",
       "4            20       2013-02-27  "
      ]
     },
     "metadata": {},
     "output_type": "display_data"
    }
   ],
   "source": [
    "#Se revisa el contenido de cada tabla\n",
    "for t in dfs:\n",
    "    print(t)\n",
    "    display(dfs[t].head())"
   ]
  },
  {
   "cell_type": "markdown",
   "metadata": {},
   "source": [
    "## **Conexion ODBC con SQL server**\n",
    "___\n",
    "\n",
    "En esta etapa se crea la conexion al motor de bases de datos `SQL server` utiliando la libreria sqlalchemy."
   ]
  },
  {
   "cell_type": "code",
   "execution_count": 5,
   "metadata": {},
   "outputs": [],
   "source": [
    "from sqlalchemy import create_engine\n",
    "\n",
    "# Detalles del servidor\n",
    "SERVER   = 'DESKTOP-AQS8U0M'\n",
    "DATABASE = 'itau'\n",
    "DRIVER   = 'ODBC Driver 17 for SQL Server'\n",
    "\n",
    "# Se crea string de conexion con la base de datos\n",
    "connection_string = f'mssql://@{SERVER}/{DATABASE}?driver={DRIVER}'\n",
    "engine = create_engine(connection_string)"
   ]
  },
  {
   "cell_type": "markdown",
   "metadata": {},
   "source": [
    "### Se realiza la carga de los datos a MSQL por medio de la funcion de pandas df.to_sql()\n",
    "\n",
    "<img src=\"images/itau_db.png\" alt=\"Se crea la base de datos en entorno local\" width=\"500\"/>"
   ]
  },
  {
   "cell_type": "code",
   "execution_count": 6,
   "metadata": {},
   "outputs": [
    {
     "name": "stdout",
     "output_type": "stream",
     "text": [
      "Se envian datos de tabla \"Base_Ahorros\" a la base de datos \"itau\"\n",
      "Se envian datos de tabla \"Base_CDT\" a la base de datos \"itau\"\n",
      "Se envian datos de tabla \"Base_Cliente\" a la base de datos \"itau\"\n",
      "Se envian datos de tabla \"Base_Creditos\" a la base de datos \"itau\"\n"
     ]
    }
   ],
   "source": [
    "for d in dfs:\n",
    "    nombre_tabla = d.rsplit('.', 1)[0]\n",
    "    dfs[d].to_sql(nombre_tabla, con=engine, if_exists='replace', index=False, chunksize=100)\n",
    "    print(f'Se envian datos de tabla \"{nombre_tabla}\" a la base de datos \"{DATABASE}\"')"
   ]
  },
  {
   "cell_type": "markdown",
   "metadata": {},
   "source": [
    "## **SOLUCION DE LA PRUEBA**\n",
    "___\n",
    "\n",
    "### **1. Realice las consultas que le permitan obtener la siguiente información**\n",
    "\n",
    "1.a Número de Clientes que tienen Crédito y a la vez Cuenta de Ahorro"
   ]
  },
  {
   "cell_type": "code",
   "execution_count": 7,
   "metadata": {},
   "outputs": [
    {
     "data": {
      "text/html": [
       "<div>\n",
       "<style scoped>\n",
       "    .dataframe tbody tr th:only-of-type {\n",
       "        vertical-align: middle;\n",
       "    }\n",
       "\n",
       "    .dataframe tbody tr th {\n",
       "        vertical-align: top;\n",
       "    }\n",
       "\n",
       "    .dataframe thead th {\n",
       "        text-align: right;\n",
       "    }\n",
       "</style>\n",
       "<table border=\"1\" class=\"dataframe\">\n",
       "  <thead>\n",
       "    <tr style=\"text-align: right;\">\n",
       "      <th></th>\n",
       "      <th>Total</th>\n",
       "    </tr>\n",
       "  </thead>\n",
       "  <tbody>\n",
       "    <tr>\n",
       "      <th>0</th>\n",
       "      <td>7269</td>\n",
       "    </tr>\n",
       "  </tbody>\n",
       "</table>\n",
       "</div>"
      ],
      "text/plain": [
       "   Total\n",
       "0   7269"
      ]
     },
     "execution_count": 7,
     "metadata": {},
     "output_type": "execute_result"
    }
   ],
   "source": [
    "query = 'SELECT COUNT(*) AS Total FROM [dbo].[Base_Ahorros] AS ah INNER JOIN [dbo].[Base_Creditos] AS cr ON ah.Cliente = cr.Cliente'\n",
    "pd.read_sql_query(query, con=engine)"
   ]
  },
  {
   "cell_type": "markdown",
   "metadata": {},
   "source": [
    "1.b\tNúmero de Clientes que tienen Crédito y al vez CDT"
   ]
  },
  {
   "cell_type": "code",
   "execution_count": 8,
   "metadata": {},
   "outputs": [
    {
     "data": {
      "text/html": [
       "<div>\n",
       "<style scoped>\n",
       "    .dataframe tbody tr th:only-of-type {\n",
       "        vertical-align: middle;\n",
       "    }\n",
       "\n",
       "    .dataframe tbody tr th {\n",
       "        vertical-align: top;\n",
       "    }\n",
       "\n",
       "    .dataframe thead th {\n",
       "        text-align: right;\n",
       "    }\n",
       "</style>\n",
       "<table border=\"1\" class=\"dataframe\">\n",
       "  <thead>\n",
       "    <tr style=\"text-align: right;\">\n",
       "      <th></th>\n",
       "      <th>Total</th>\n",
       "    </tr>\n",
       "  </thead>\n",
       "  <tbody>\n",
       "    <tr>\n",
       "      <th>0</th>\n",
       "      <td>92</td>\n",
       "    </tr>\n",
       "  </tbody>\n",
       "</table>\n",
       "</div>"
      ],
      "text/plain": [
       "   Total\n",
       "0     92"
      ]
     },
     "execution_count": 8,
     "metadata": {},
     "output_type": "execute_result"
    }
   ],
   "source": [
    "query = 'SELECT COUNT(*) AS Total FROM [dbo].[Base_CDT] AS cd INNER JOIN [dbo].[Base_Creditos] AS cr ON cd.Cliente = cr.Cliente'\n",
    "pd.read_sql_query(query, con=engine)"
   ]
  },
  {
   "cell_type": "markdown",
   "metadata": {},
   "source": [
    "1.c\tNúmero de Clientes que Solo tienen Crédito (Que no tienen Cuenta de Ahorro ni CDT)"
   ]
  },
  {
   "cell_type": "code",
   "execution_count": 9,
   "metadata": {},
   "outputs": [
    {
     "data": {
      "text/html": [
       "<div>\n",
       "<style scoped>\n",
       "    .dataframe tbody tr th:only-of-type {\n",
       "        vertical-align: middle;\n",
       "    }\n",
       "\n",
       "    .dataframe tbody tr th {\n",
       "        vertical-align: top;\n",
       "    }\n",
       "\n",
       "    .dataframe thead th {\n",
       "        text-align: right;\n",
       "    }\n",
       "</style>\n",
       "<table border=\"1\" class=\"dataframe\">\n",
       "  <thead>\n",
       "    <tr style=\"text-align: right;\">\n",
       "      <th></th>\n",
       "      <th>Total</th>\n",
       "    </tr>\n",
       "  </thead>\n",
       "  <tbody>\n",
       "    <tr>\n",
       "      <th>0</th>\n",
       "      <td>3657</td>\n",
       "    </tr>\n",
       "  </tbody>\n",
       "</table>\n",
       "</div>"
      ],
      "text/plain": [
       "   Total\n",
       "0   3657"
      ]
     },
     "execution_count": 9,
     "metadata": {},
     "output_type": "execute_result"
    }
   ],
   "source": [
    "query = \"SELECT COUNT(*) AS Total \t\t\\\n",
    "FROM [dbo].[Base_Creditos] AS cr  \t\t\\\n",
    "LEFT JOIN [dbo].[Base_Ahorros] AS ah \t\\\n",
    "ON cr.Cliente = ah.Cliente          \t\\\n",
    "LEFT JOIN [dbo].[Base_CDT] AS cd    \t\\\n",
    "\tON cr.Cliente = cd.Cliente      \t\\\n",
    "WHERE ah.Cliente IS NULL            \t\\\n",
    "\tAND cd.Cliente IS NULL\" \n",
    "pd.read_sql_query(query, con=engine)"
   ]
  },
  {
   "cell_type": "markdown",
   "metadata": {},
   "source": [
    "1.d\tNumero de Clientes que tienen los 3 productos (Crédito - Ahorro - CDT)"
   ]
  },
  {
   "cell_type": "code",
   "execution_count": 10,
   "metadata": {},
   "outputs": [
    {
     "data": {
      "text/html": [
       "<div>\n",
       "<style scoped>\n",
       "    .dataframe tbody tr th:only-of-type {\n",
       "        vertical-align: middle;\n",
       "    }\n",
       "\n",
       "    .dataframe tbody tr th {\n",
       "        vertical-align: top;\n",
       "    }\n",
       "\n",
       "    .dataframe thead th {\n",
       "        text-align: right;\n",
       "    }\n",
       "</style>\n",
       "<table border=\"1\" class=\"dataframe\">\n",
       "  <thead>\n",
       "    <tr style=\"text-align: right;\">\n",
       "      <th></th>\n",
       "      <th>Total</th>\n",
       "    </tr>\n",
       "  </thead>\n",
       "  <tbody>\n",
       "    <tr>\n",
       "      <th>0</th>\n",
       "      <td>83</td>\n",
       "    </tr>\n",
       "  </tbody>\n",
       "</table>\n",
       "</div>"
      ],
      "text/plain": [
       "   Total\n",
       "0     83"
      ]
     },
     "execution_count": 10,
     "metadata": {},
     "output_type": "execute_result"
    }
   ],
   "source": [
    "query = \"SELECT COUNT(*) AS Total   \t\\\n",
    "FROM [dbo].[Base_Creditos] AS cr    \t\\\n",
    "INNER JOIN [dbo].[Base_Ahorros] AS ah\t\\\n",
    "\tON cr.Cliente = ah.Cliente      \t\\\n",
    "INNER JOIN [dbo].[Base_CDT] AS cd   \t\\\n",
    "\tON cr.Cliente = cd.Cliente\" \n",
    "pd.read_sql_query(query, con=engine)"
   ]
  },
  {
   "cell_type": "markdown",
   "metadata": {},
   "source": [
    "### **2. Con la tabla “Base_Creditos”, realice las siguientes consultas:**\n",
    "\n",
    "2.1 Genere un rango en un Campo Nuevo o en una tabla temporal (Insertar Columna en la tabla Prueba_Base_Creditos) de acuerdo a las siguientes rangos\n",
    "\n",
    "<img src=\"images/rangos.png\" alt=\"Se crea la base de datos en entorno local\" width=\"300\"/>\n",
    "\n",
    "Por `practicidad`, se aplican los cambios sobre la tabla Base_Creditos `directamente en el motor de BD` como se muestra en la siguiente imagen:\n",
    "\n",
    "<img src=\"images/DDL_base_credito.png\" alt=\"Se crea la base de datos en entorno local\" width=\"700\"/>\n"
   ]
  },
  {
   "cell_type": "markdown",
   "metadata": {},
   "source": [
    "**2.2**\tDe acuerdo al punto anterior realice una consulta y agrupe por el rango de mora creado, para identificar la cantidad de créditos en cada rango y su saldo sumado (Saldo_Credito).\n",
    "\n",
    "Esta consulta solo debe agrupar los créditos vigentes desembolsados en el año 2015. "
   ]
  },
  {
   "cell_type": "code",
   "execution_count": 12,
   "metadata": {},
   "outputs": [
    {
     "data": {
      "text/html": [
       "<div>\n",
       "<style scoped>\n",
       "    .dataframe tbody tr th:only-of-type {\n",
       "        vertical-align: middle;\n",
       "    }\n",
       "\n",
       "    .dataframe tbody tr th {\n",
       "        vertical-align: top;\n",
       "    }\n",
       "\n",
       "    .dataframe thead th {\n",
       "        text-align: right;\n",
       "    }\n",
       "</style>\n",
       "<table border=\"1\" class=\"dataframe\">\n",
       "  <thead>\n",
       "    <tr style=\"text-align: right;\">\n",
       "      <th></th>\n",
       "      <th>Rango_Dias_En_Mora</th>\n",
       "      <th>Cantidad_Creditos</th>\n",
       "      <th>Saldo_Creditos</th>\n",
       "    </tr>\n",
       "  </thead>\n",
       "  <tbody>\n",
       "    <tr>\n",
       "      <th>0</th>\n",
       "      <td>1</td>\n",
       "      <td>3479</td>\n",
       "      <td>9.789993e+09</td>\n",
       "    </tr>\n",
       "    <tr>\n",
       "      <th>1</th>\n",
       "      <td>2</td>\n",
       "      <td>3</td>\n",
       "      <td>4.002832e+06</td>\n",
       "    </tr>\n",
       "  </tbody>\n",
       "</table>\n",
       "</div>"
      ],
      "text/plain": [
       "   Rango_Dias_En_Mora  Cantidad_Creditos  Saldo_Creditos\n",
       "0                   1               3479    9.789993e+09\n",
       "1                   2                  3    4.002832e+06"
      ]
     },
     "execution_count": 12,
     "metadata": {},
     "output_type": "execute_result"
    }
   ],
   "source": [
    "query = \"                                                       \\\n",
    "SELECT Rango_Dias_En_Mora                                       \\\n",
    "\t\t,COUNT(Dias_En_Mora) AS Cantidad_Creditos               \\\n",
    "\t\t,SUM(Saldo_Credito) AS Saldo_Creditos                   \\\n",
    "FROM [dbo].[Base_Creditos]                                      \\\n",
    "WHERE Fecha_Desembolso BETWEEN '2015-01-01' AND '2015-12-31'    \\\n",
    "GROUP BY Rango_Dias_En_Mora                                     \\\n",
    "ORDER BY Rango_Dias_En_Mora \"\n",
    "pd.read_sql_query(query, con=engine)"
   ]
  },
  {
   "cell_type": "markdown",
   "metadata": {},
   "source": [
    "### **3. Realice el cruce de las tablas**\n",
    "\n",
    "Tomando como base la tabla `Prueba_Base_Cliente` se construye la tabla `tabla_final` que posteriormente es usada para construir el reporte PBI."
   ]
  },
  {
   "cell_type": "code",
   "execution_count": 13,
   "metadata": {},
   "outputs": [],
   "source": [
    "query = \"                                                                                           \\\n",
    "SELECT cl.Cliente                                                                                   \\\n",
    "\t\t,cl.Estrato                                                                                 \\\n",
    "\t\t,cl.Estado_Civil                                                                            \\\n",
    "\t\t,cl.Genero                                                                                  \\\n",
    "\t\t,CASE WHEN cr.Cliente\t\tIS NOT NULL\tTHEN 1\t\t\t\t  ELSE 0 END AS Credito         \\\n",
    "\t\t,CASE WHEN cr.Saldo_Credito IS NOT NULL THEN cr.Saldo_Credito ELSE 0 END AS Saldo_Credito   \\\n",
    "\t\t,CASE WHEN cr.Dias_En_Mora  IS NOT NULL THEN cr.Dias_En_Mora  ELSE 0 END AS Dias_En_Mora    \\\n",
    "\t\t,CASE WHEN ah.Cliente\t    IS NOT NULL THEN 1\t\t\t\t  ELSE 0 END AS Ahorro          \\\n",
    "\t\t,CASE WHEN ah.Saldo_Ahorro  IS NOT NULL THEN ah.Saldo_Ahorro  ELSE 0 END AS Saldo_Ahorro    \\\n",
    "\t\t,CASE WHEN cd.Cliente\t    IS NOT NULL THEN 1\t\t\t\t  ELSE 0 END AS CDT             \\\n",
    "\t\t,CASE WHEN cd.Monto_CDT\t\tIS NOT NULL THEN cd.Monto_CDT\t  ELSE 0 END AS Monto_CDT       \\\n",
    "FROM [dbo].[Base_Cliente]\t\tAS cl                                                               \\\n",
    "LEFT JOIN [dbo].[Base_Ahorros]\tAS ah                                                               \\\n",
    "\tON cl.Cliente = ah.Cliente                                                                      \\\n",
    "LEFT JOIN [dbo].[Base_CDT]\t\tAS cd                                                               \\\n",
    "\tON cl.Cliente = cd.Cliente                                                                      \\\n",
    "LEFT JOIN [dbo].[Base_Creditos]\tAS cr                                                               \\\n",
    "\tON cl.Cliente = cr.Cliente \"\n",
    "\n",
    "tabla_pbi = pd.read_sql_query(query, con=engine)"
   ]
  },
  {
   "cell_type": "code",
   "execution_count": 14,
   "metadata": {},
   "outputs": [
    {
     "name": "stdout",
     "output_type": "stream",
     "text": [
      "<class 'pandas.core.frame.DataFrame'>\n",
      "RangeIndex: 14908 entries, 0 to 14907\n",
      "Data columns (total 11 columns):\n",
      " #   Column         Non-Null Count  Dtype  \n",
      "---  ------         --------------  -----  \n",
      " 0   Cliente        14908 non-null  int64  \n",
      " 1   Estrato        14908 non-null  object \n",
      " 2   Estado_Civil   14908 non-null  object \n",
      " 3   Genero         14908 non-null  object \n",
      " 4   Credito        14908 non-null  int64  \n",
      " 5   Saldo_Credito  14908 non-null  float64\n",
      " 6   Dias_En_Mora   14908 non-null  int64  \n",
      " 7   Ahorro         14908 non-null  int64  \n",
      " 8   Saldo_Ahorro   14908 non-null  float64\n",
      " 9   CDT            14908 non-null  int64  \n",
      " 10  Monto_CDT      14908 non-null  float64\n",
      "dtypes: float64(3), int64(5), object(3)\n",
      "memory usage: 1.3+ MB\n"
     ]
    }
   ],
   "source": [
    "tabla_pbi.info()"
   ]
  },
  {
   "cell_type": "markdown",
   "metadata": {},
   "source": [
    "### **4.\tExporte la tabla resultado del punto anterior a un archivo de Excel**\n",
    "\n",
    "Se exporta como archivo de `extension .xlsx` para facilitar la integracion con PBI"
   ]
  },
  {
   "cell_type": "code",
   "execution_count": 15,
   "metadata": {},
   "outputs": [],
   "source": [
    "# Nombre del nuevo directorio\n",
    "directory_path = \"pbi\"\n",
    "\n",
    "# Funcion que crea el nuevo directorio en caso que no exista\n",
    "if not os.path.exists(directory_path):\n",
    "    os.makedirs(directory_path)\n",
    "\n",
    "tabla_pbi.to_excel(\"pbi/tabla_final.xlsx\", index=False)"
   ]
  },
  {
   "cell_type": "markdown",
   "metadata": {},
   "source": [
    "### **5. Con base en la tabla final usando Power BI realice un tablero de control en donde se pueda ver de forma rápida la información de los clientes y sus productos inicialmente por ciudad y luego se pueda se pueda profundizar al nivel de oficina.**\n",
    "\n",
    "Se crea un dashboard breve en el que se presenta la relacion de las diferentes oficinas, segmentadas por ciudad y su relacion con las demas variables\n",
    "\n",
    "<img src=\"images/dashboard.png\" alt=\"captura de pantalla de tablero de control\" width=\"1200\"/>"
   ]
  },
  {
   "cell_type": "markdown",
   "metadata": {},
   "source": [
    "### **6. Realice un analisis de clientes y sus productos por cada ciudad y oficina**"
   ]
  },
  {
   "cell_type": "markdown",
   "metadata": {},
   "source": [
    "##### **Productos:**\n",
    "1.\tCréditos\n",
    "\n",
    "* La ciudad con mayor número de créditos y mayor saldo de crédito promedio es Bogotá, luego Cali y Medellín.\n",
    "* En Bogotá la oficina con mayor número de créditos es la 1, luego la 2 y la 3 y mayor saldo de crédito promedio es la 2, luego la 3 y la 1.\n",
    "* En Cali la oficina con mayor número de créditos y mayor saldo de crédito promedio es la 1, luego la 2 y la 3 respectivamente.\n",
    "* En Medellín la única oficina con créditos es la 1 \n",
    "\n",
    "2.\tCDT\n",
    "\n",
    "* La ciudad con mayor número de CDT y mayor monto_cdt promedio es Medellín, luego Bogotá y Cali \n",
    "* En Bogotá la oficina con mayor número de CDT es la 1, luego la 2 y la 3 y mayor monto_cdt promedio es la 2, luego la 3 y la 1 \n",
    "* En Cali la oficina con mayor número de CDT es la 1, luego la 3 y la 2 y mayor monto_cdt promedio es la 1, luego la 3 y la 2\n",
    "* En Medellín la oficina con mayor número de CDT es la 2, luego la 1 y la 3 y mayor monto_cdt promedio es la 3, luego la 2 y la 1\n",
    "\n",
    "3.\tAhorros\n",
    "\n",
    "* La ciudad con mayor número de ahorros es Medellín, luego Bogotá y Cali y mayor ahorros promedio es Medellín, luego Cali y Bogotá \n",
    "* En Bogotá la oficina con mayor número de ahorros es la 1, luego la 2 y la 3 y mayor ahorro promedio es la 2, luego la 1 y la 3\n",
    "* En Cali la oficina con mayor número de ahorros es la 1, luego la 3 y la 2 y mayor ahorro promedio es la 2, luego la 3 y la 1\n",
    "* En Medellín la oficina con mayor número de ahorros es la 2, luego la 1 y la 3 y mayor ahorro promedio es la 3, luego la 2 y la 1\n",
    "\n",
    "##### **Clientes:**\n",
    " \n",
    "* La mayoría de los clientes están en unión libre con mayor concentración en Bogotá, luego Medellín y Cali. Los clientes viudos son los de menor concentración, pero están distribuidos de mayo a menor en Bogotá, Cali y Medellín respectivamente.\n",
    "* Existen mayor concentración de clientes masculinos distribuidos de mayor a menor en Bogotá, Medellín y Cali respectivamente y clientes de género femenino tienen la misma distribución de ciudades.\n",
    "* Existen mayor concentración de clientes que están al día distribuidos de mayor a menor en Bogotá, Cali y Medellín respectivamente y la ciudad con mayor número de clientes en mora en Cali.\n",
    "* Existen mayor concentración de clientes que están en estrato 1 y distribuidos de mayor a menor por estrato están en el siguiente orden 1,2,3,6 y 4 respectivamente.\n"
   ]
  },
  {
   "cell_type": "markdown",
   "metadata": {},
   "source": [
    "### **7. Prueba Pyspark**\n",
    "\n",
    "¿Puede presentar en una tabla la estructura que se obtendría con el siguiente código usando pyspark? ¿Y podría darnos un detalle de esta tabla considerando solo la primera fila de la tabla de entrada?\n",
    "\n",
    "<img src=\"images/pyspark.png\" alt=\"tabla base para ejecutar codigo pyspark\" width=\"900\"/>\n",
    "\n",
    "Para presentar en una tabla la esctructura que se obtiene ejecutando los comandos pyspark primero debemos recrear la tabla presentada en la imagen. \n",
    "\n",
    "Es importante resaltar que `para ejecutar el codigo` aqui descrito se debe hacer el set up de las variables de entorno **SPARK_HOME**, **HADOOP_HOME** y **JAVA_HOME**.\n",
    "\n",
    "Empezamos por importar las librerias necesarias."
   ]
  },
  {
   "cell_type": "code",
   "execution_count": 37,
   "metadata": {},
   "outputs": [],
   "source": [
    "import findspark\n",
    "findspark.init()\n",
    "\n",
    "from pyspark.sql            import SparkSession\n",
    "from pyspark.sql.types      import StructType, StructField, IntegerType, StringType\n",
    "from pyspark.sql.functions  import expr"
   ]
  },
  {
   "cell_type": "markdown",
   "metadata": {},
   "source": [
    "Creamos la sesion de spark"
   ]
  },
  {
   "cell_type": "code",
   "execution_count": 30,
   "metadata": {},
   "outputs": [],
   "source": [
    "spark = SparkSession.builder.appName('itau_test').getOrCreate()"
   ]
  },
  {
   "cell_type": "markdown",
   "metadata": {},
   "source": [
    "Definimos el schema haciendo una inferencia basica sobre la imagen de la tabla y creamos la tabla bajo el nombre py_df"
   ]
  },
  {
   "cell_type": "code",
   "execution_count": 38,
   "metadata": {},
   "outputs": [],
   "source": [
    "schema = StructType([\n",
    "    StructField(\"Num_uni\",      IntegerType(), True),\n",
    "    StructField(\"periodo\",      IntegerType(), True),\n",
    "    StructField(\"Alto_valor\",   StringType(), True),\n",
    "    StructField(\"Sm_activo\",    IntegerType(), True),\n",
    "    StructField(\"Sm_pasivo\",    IntegerType(), True),\n",
    "    StructField(\"margen\",       IntegerType(), True),\n",
    "    StructField(\"ivc\",          IntegerType(), True),\n",
    "])\n",
    "\n",
    "# Crea un DataFrame con los datos proporcionados\n",
    "data = [\n",
    "    (10000, 202305, \"SI\", 1000, 1000000, 20, 4),\n",
    "    (10001, 202305, \"NO\", 30, 1000000, 10, 2),\n",
    "]\n",
    "\n",
    "# Se crea el DataFrame utilizando el esquema definido\n",
    "py_df = spark.createDataFrame(data, schema=schema)"
   ]
  },
  {
   "cell_type": "markdown",
   "metadata": {},
   "source": [
    "Se ejecuta el codigo descrito en el ejercicio"
   ]
  },
  {
   "cell_type": "code",
   "execution_count": 41,
   "metadata": {},
   "outputs": [],
   "source": [
    "# Lista de columnas que no se deben apilar (stack)\n",
    "exclude_list = [\"Num_uni\", \"periodo\", 'Alto_valor']\n",
    "\n",
    "# Selecciona las columnas relevantes que se deben apilar (stack)\n",
    "relevant_columns = [c for c in py_df.columns if c not in exclude_list]\n",
    "\n",
    "# Número de columnas relevantes\n",
    "n = len(relevant_columns)\n",
    "\n",
    "# Crea una expresión para apilar las columnas relevantes\n",
    "cols_to_stack = \", \".join(['\\'{c}\\', {c}'.format(c=c) for c in relevant_columns])\n",
    "stack_expression = \"stack({}, {}) as (variable, valores)\".format(n, cols_to_stack)\n",
    "\n",
    "# Aplicar la operación de apilado al DataFrame\n",
    "df_unpivot = py_df.select(\"Num_uni\", \"periodo\", expr(stack_expression))"
   ]
  },
  {
   "cell_type": "markdown",
   "metadata": {},
   "source": [
    "Se imprime la tabla resultante"
   ]
  },
  {
   "cell_type": "code",
   "execution_count": 40,
   "metadata": {},
   "outputs": [
    {
     "name": "stdout",
     "output_type": "stream",
     "text": [
      "+-------+-------+---------+-------+\n",
      "|Num_uni|periodo| variable|valores|\n",
      "+-------+-------+---------+-------+\n",
      "|  10000| 202305|Sm_activo|   1000|\n",
      "|  10000| 202305|Sm_pasivo|1000000|\n",
      "|  10000| 202305|   margen|     20|\n",
      "|  10000| 202305|      ivc|      4|\n",
      "|  10001| 202305|Sm_activo|     30|\n",
      "|  10001| 202305|Sm_pasivo|1000000|\n",
      "|  10001| 202305|   margen|     10|\n",
      "|  10001| 202305|      ivc|      2|\n",
      "+-------+-------+---------+-------+\n",
      "\n"
     ]
    }
   ],
   "source": [
    "df_unpivot.show()"
   ]
  },
  {
   "cell_type": "markdown",
   "metadata": {},
   "source": [
    "### **8. Prueba AWS**\n",
    "\n",
    "Una de mis principales influencias en el proceso de aprendizaje sobre la nube ha sido el libro [Data Engineering with AWS: Learn how to design and build cloud-based data transformation pipelines using AWS](https://www.packtpub.com/product/data-engineering-with-aws/9781800560413). \n",
    "\n",
    "<img src=\"images/aws_datalake.png\" alt=\"dtl_arqu\" width=\"900\"/>\n",
    "\n",
    "En la imagen del capitulo 2 se plantea de forma abstracta la arquitectura de un datalakehouse en terminos de las diferentes etapas que debe incluir un lago de datos. \n",
    "\n",
    "Dado que no contamos con un escenario especifico de transformacion de datos, planteo de manera descriptiva los servicios que podria desplegar en el caso hipotetico en el que se recibe un archivo de extension .csv y debe alistarse para su consumo en el marco de la arquitectura de un datalakehouse.\n",
    "\n",
    "* **Etapa de ingesta:** `AWS dataSync` para obtencion de datos desde soluciones on premise, `CLI (command line interface)` en conjunto con boto3 para la creacion de buckets y manipulacion programatica.\n",
    "\n",
    "* **Etapa de almacenamiento**: `CLI`, `AWS S3(buckets bronce, silver, gold)`, `AWS redshift` en caso que se requiera normalizar la informacion en los archivos .csv\n",
    "\n",
    "* **Etapa de procesamiento:** `AWS Lambda` para crear trigers y procesamiento ligero usando boto3 y python sintaxis, `AWS Glue` para transformaciones sobre API de spark, `AWS DataBrew` o `AWS SageMaker` para analisis de calidad de datos, `AWS EC2` para creacion de instancias de administradas de computacion, `AWS Glue` para la creacion de catalogos.\n",
    "\n",
    "* **Etapa de consumo:** `AWS Athena` para la consulta de datos en lenguaje SQL, `AWS quickSight` para la creacion de tableros, `AWS Sagemaker` para el consumo de datos en un contexto de machine learning.\n",
    "\n",
    "\n"
   ]
  }
 ],
 "metadata": {
  "kernelspec": {
   "display_name": "itau_kernel",
   "language": "python",
   "name": "itau_kernel"
  },
  "language_info": {
   "codemirror_mode": {
    "name": "ipython",
    "version": 3
   },
   "file_extension": ".py",
   "mimetype": "text/x-python",
   "name": "python",
   "nbconvert_exporter": "python",
   "pygments_lexer": "ipython3",
   "version": "3.10.3"
  }
 },
 "nbformat": 4,
 "nbformat_minor": 2
}
